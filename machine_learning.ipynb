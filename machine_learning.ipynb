{
 "cells": [
  {
   "cell_type": "markdown",
   "metadata": {},
   "source": [
    "# Andrea Russo AR23110010747\n",
    "## T17 - Practical Task 1"
   ]
  },
  {
   "cell_type": "markdown",
   "metadata": {
    "id": "IBb6nSAY5T4I"
   },
   "source": [
    "# Machine Learning\n",
    "## Compulsory task"
   ]
  },
  {
   "cell_type": "markdown",
   "metadata": {
    "id": "N02Qu9_f1N45"
   },
   "source": [
    "1. For each of the following examples describe at least one possible input and\n",
    "output. Justify your answers:  \n",
    "* 1.1 A self-driving car\n",
    "* 1.2 Netflix recommendation system\n",
    "* 1.3 Signature recognition\n",
    "* 1.4 Medical diagnosis\n"
   ]
  },
  {
   "cell_type": "markdown",
   "metadata": {
    "id": "-8aBqprP3ypo"
   },
   "source": [
    "1. Answer here\n",
    "\n",
    "|      | Input(s)    | Output     |\n",
    "| ---- | ----------- | ---------  |\n",
    "| 1.1  |    Road Signals, street delimiters, other cars, bicycles and people         |     Acceleration/breaking of the car, wheel turns       |\n",
    "| 1.2  |      Genres of shows watched, time spent on a series/movie       |     Series/movies that the user might enjoy       |\n",
    "| 1.3  |      Many signatures form different people       |    Name written, authenticity of the signature        |\n",
    "| 1.4  |        Symptoms of the patient, biometric data (age,weight,blood pressure, etc etc)     |     A list of possible pathologies with associated probabilities       |"
   ]
  },
  {
   "cell_type": "markdown",
   "metadata": {
    "id": "l_I2f4C85yNF"
   },
   "source": [
    "\n",
    "2. For each of the following case studies, determine whether it is appropriate to utilise regression or classification machine learning algorithms. Justify your answers:\n",
    "* 2.1 Classifying emails as promotion or social based on their content and metadata.\n",
    "* 2.2 Forecasting the stock price of a company based on historical data and market trends.\n",
    "* 2.3 Sorting images of animals into different species based on their visual features.\n",
    "* 2.4 Predicting the likelihood of a patient having a particular disease based on medical history and diagnostic test results."
   ]
  },
  {
   "cell_type": "markdown",
   "metadata": {
    "id": "WgMUsqQr6qFU"
   },
   "source": [
    "2. Answer here:\n",
    "* 2.1 Classification. The input needs to be assigned to discrete predetermined categories.\n",
    "* 2.2 Regression for stock value, classification for stock movement direction. The stock price can be treated as a real number, if one aims at predicting it exactly, it should use regression. However, this is very difficult, and it might be easier to attempt the forecasting of the stock price direction (up/down/stationary). In that case, classification is more appropriate.\n",
    "* 2.3 Classification. The data needs to be assigned to discrete predetermined categories.\n",
    "* 2.4 Regression. Probability and likelihood can be described by real numbers ranging from 0 to 1. In this case, a regression will be most appropriate."
   ]
  },
  {
   "cell_type": "markdown",
   "metadata": {
    "id": "b6f8UETG64hH"
   },
   "source": [
    "3. For each of the following real-world problems, determine whether it is appropriate to utilise a supervised or unsupervised machine learning algorithm. Justify your answers:\n",
    "* 3.1 Detecting anomalies in a manufacturing process using sensor data without prior knowledge of specific anomaly patterns.\n",
    "* 3.2 Predicting customer lifetime value based on historical transaction data and customer demographics.\n",
    "* 3.3 Segmenting customer demographics based on their purchase history, browsing behaviour, and preferences.\n",
    "* 3.4 Analysing social media posts to categorise them into different themes.\n"
   ]
  },
  {
   "cell_type": "markdown",
   "metadata": {
    "id": "W6dTYBvd675O"
   },
   "source": [
    "3. Answer here\n",
    "* 3.1 Unsupervised. Without previous knowledge, the algorithm will have to identify patterns and anomalies by itself.\n",
    "* 3.2 Supervised. Customers' lifetime values will be paired with their transaction data and demographics. The algorithm will use the last two as features to predict the lifetime value.\n",
    "* 3.3 Unsupervised. Customer segmentation involves grouping customers based on similarities in their features. This task does not require labeled data, as the goal is to uncover hidden patterns or groups in the data. Unsupervised learning techniques like clustering are ideal for this purpose, as they can identify natural groupings in the data without pre-defined categories.\n",
    "* 3.4 Supervised Learning (if labeled data is available) or Unsupervised Learning (if no labeled data). If one has a dataset with social media posts already categorized into themes, then supervised learning is appropriate. One can train a model to learn from these labeled examples and then categorize new posts based on what it has learned. However, if one does not have labeled data, unsupervised learning techniques can be used to discover themes or topics in the posts without needing predefined categories."
   ]
  },
  {
   "cell_type": "markdown",
   "metadata": {
    "id": "bqsun96o64xe"
   },
   "source": [
    "4.\n",
    "For each of the following real-world problems, determine whether it is appropriate to utilise semi-supervised machine learning algorithms. Justify your answers:\n",
    "* 4.1 Predicting fraudulent financial transactions using a dataset where most transactions are labelled as fraudulent or legitimate.\n",
    "* 4.2 Analysing customer satisfaction surveys where only a small portion of the data is labelled with satisfaction ratings.\n",
    "* 4.3 Identifying spam emails in a dataset where the majority of emails are labelled.\n",
    "* 4.4 Predicting the probability of default for credit card applicants based on their complete financial and credit-related information.\n"
   ]
  },
  {
   "cell_type": "markdown",
   "metadata": {
    "id": "aTWugZ6q68GF"
   },
   "source": [
    "4. Answer here\n",
    "* 4.1 Not appropriate. Since most of the transactions in this dataset are already labeled as either fraudulent or legitimate, the primary benefit of semi-supervised learning (leveraging a large pool of unlabeled data) is not fully utilized. \n",
    "* 4.2 Appropriate. Given the large amount of unlabelled data, semi-supervised learning is perfectly fitting to understand the underlying structure of the dataset and uncover different patterns leading to higher or lower satisfaction ratings.\n",
    "* 4.3 Not appropriate. As in the first case, the majority of the data is labeled and a supervised learning algorithm will be most useful given the abundance of cases to learn from.\n",
    "* 4.4 This depends on the amount of data that is paired with the default status. If only a small amount of complete financial records are labeled as default/not default and there is a lot of unlabeled data, then a semi-supervised algorithm could be perfectly fitting. Otherwise, if most of the data is labeled, a supervised algorithm should be used. Lastly, if none of the data is labeled, an unsupervised algorithm should be the choice."
   ]
  }
 ],
 "metadata": {
  "colab": {
   "provenance": []
  },
  "kernelspec": {
   "display_name": "Python 3 (ipykernel)",
   "language": "python",
   "name": "python3"
  },
  "language_info": {
   "codemirror_mode": {
    "name": "ipython",
    "version": 3
   },
   "file_extension": ".py",
   "mimetype": "text/x-python",
   "name": "python",
   "nbconvert_exporter": "python",
   "pygments_lexer": "ipython3",
   "version": "3.9.18"
  }
 },
 "nbformat": 4,
 "nbformat_minor": 4
}
